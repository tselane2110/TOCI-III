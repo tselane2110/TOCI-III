{
  "nbformat": 4,
  "nbformat_minor": 0,
  "metadata": {
    "colab": {
      "provenance": [],
      "authorship_tag": "ABX9TyMHNsfTSGA4t/HI3F9j2aiA",
      "include_colab_link": true
    },
    "kernelspec": {
      "name": "python3",
      "display_name": "Python 3"
    },
    "language_info": {
      "name": "python"
    }
  },
  "cells": [
    {
      "cell_type": "markdown",
      "metadata": {
        "id": "view-in-github",
        "colab_type": "text"
      },
      "source": [
        "<a href=\"https://colab.research.google.com/github/tselane2110/TOCI-III/blob/main/toci_iii_mid.ipynb\" target=\"_parent\"><img src=\"https://colab.research.google.com/assets/colab-badge.svg\" alt=\"Open In Colab\"/></a>"
      ]
    },
    {
      "cell_type": "code",
      "execution_count": null,
      "metadata": {
        "id": "7ps_jC8Aq4I9"
      },
      "outputs": [],
      "source": [
        "from sklearn import datasets\n",
        "import pandas as pd\n",
        "import numpy as np"
      ]
    },
    {
      "cell_type": "code",
      "source": [
        "iris_dataset=datasets.load_iris()\n",
        "iris_dataset"
      ],
      "metadata": {
        "colab": {
          "base_uri": "https://localhost:8080/"
        },
        "id": "zq0ZKzx3rEDl",
        "outputId": "974a4ec5-957f-4aaa-bc68-4b4e4b79fa7c"
      },
      "execution_count": null,
      "outputs": [
        {
          "output_type": "execute_result",
          "data": {
            "text/plain": [
              "{'data': array([[5.1, 3.5, 1.4, 0.2],\n",
              "        [4.9, 3. , 1.4, 0.2],\n",
              "        [4.7, 3.2, 1.3, 0.2],\n",
              "        [4.6, 3.1, 1.5, 0.2],\n",
              "        [5. , 3.6, 1.4, 0.2],\n",
              "        [5.4, 3.9, 1.7, 0.4],\n",
              "        [4.6, 3.4, 1.4, 0.3],\n",
              "        [5. , 3.4, 1.5, 0.2],\n",
              "        [4.4, 2.9, 1.4, 0.2],\n",
              "        [4.9, 3.1, 1.5, 0.1],\n",
              "        [5.4, 3.7, 1.5, 0.2],\n",
              "        [4.8, 3.4, 1.6, 0.2],\n",
              "        [4.8, 3. , 1.4, 0.1],\n",
              "        [4.3, 3. , 1.1, 0.1],\n",
              "        [5.8, 4. , 1.2, 0.2],\n",
              "        [5.7, 4.4, 1.5, 0.4],\n",
              "        [5.4, 3.9, 1.3, 0.4],\n",
              "        [5.1, 3.5, 1.4, 0.3],\n",
              "        [5.7, 3.8, 1.7, 0.3],\n",
              "        [5.1, 3.8, 1.5, 0.3],\n",
              "        [5.4, 3.4, 1.7, 0.2],\n",
              "        [5.1, 3.7, 1.5, 0.4],\n",
              "        [4.6, 3.6, 1. , 0.2],\n",
              "        [5.1, 3.3, 1.7, 0.5],\n",
              "        [4.8, 3.4, 1.9, 0.2],\n",
              "        [5. , 3. , 1.6, 0.2],\n",
              "        [5. , 3.4, 1.6, 0.4],\n",
              "        [5.2, 3.5, 1.5, 0.2],\n",
              "        [5.2, 3.4, 1.4, 0.2],\n",
              "        [4.7, 3.2, 1.6, 0.2],\n",
              "        [4.8, 3.1, 1.6, 0.2],\n",
              "        [5.4, 3.4, 1.5, 0.4],\n",
              "        [5.2, 4.1, 1.5, 0.1],\n",
              "        [5.5, 4.2, 1.4, 0.2],\n",
              "        [4.9, 3.1, 1.5, 0.2],\n",
              "        [5. , 3.2, 1.2, 0.2],\n",
              "        [5.5, 3.5, 1.3, 0.2],\n",
              "        [4.9, 3.6, 1.4, 0.1],\n",
              "        [4.4, 3. , 1.3, 0.2],\n",
              "        [5.1, 3.4, 1.5, 0.2],\n",
              "        [5. , 3.5, 1.3, 0.3],\n",
              "        [4.5, 2.3, 1.3, 0.3],\n",
              "        [4.4, 3.2, 1.3, 0.2],\n",
              "        [5. , 3.5, 1.6, 0.6],\n",
              "        [5.1, 3.8, 1.9, 0.4],\n",
              "        [4.8, 3. , 1.4, 0.3],\n",
              "        [5.1, 3.8, 1.6, 0.2],\n",
              "        [4.6, 3.2, 1.4, 0.2],\n",
              "        [5.3, 3.7, 1.5, 0.2],\n",
              "        [5. , 3.3, 1.4, 0.2],\n",
              "        [7. , 3.2, 4.7, 1.4],\n",
              "        [6.4, 3.2, 4.5, 1.5],\n",
              "        [6.9, 3.1, 4.9, 1.5],\n",
              "        [5.5, 2.3, 4. , 1.3],\n",
              "        [6.5, 2.8, 4.6, 1.5],\n",
              "        [5.7, 2.8, 4.5, 1.3],\n",
              "        [6.3, 3.3, 4.7, 1.6],\n",
              "        [4.9, 2.4, 3.3, 1. ],\n",
              "        [6.6, 2.9, 4.6, 1.3],\n",
              "        [5.2, 2.7, 3.9, 1.4],\n",
              "        [5. , 2. , 3.5, 1. ],\n",
              "        [5.9, 3. , 4.2, 1.5],\n",
              "        [6. , 2.2, 4. , 1. ],\n",
              "        [6.1, 2.9, 4.7, 1.4],\n",
              "        [5.6, 2.9, 3.6, 1.3],\n",
              "        [6.7, 3.1, 4.4, 1.4],\n",
              "        [5.6, 3. , 4.5, 1.5],\n",
              "        [5.8, 2.7, 4.1, 1. ],\n",
              "        [6.2, 2.2, 4.5, 1.5],\n",
              "        [5.6, 2.5, 3.9, 1.1],\n",
              "        [5.9, 3.2, 4.8, 1.8],\n",
              "        [6.1, 2.8, 4. , 1.3],\n",
              "        [6.3, 2.5, 4.9, 1.5],\n",
              "        [6.1, 2.8, 4.7, 1.2],\n",
              "        [6.4, 2.9, 4.3, 1.3],\n",
              "        [6.6, 3. , 4.4, 1.4],\n",
              "        [6.8, 2.8, 4.8, 1.4],\n",
              "        [6.7, 3. , 5. , 1.7],\n",
              "        [6. , 2.9, 4.5, 1.5],\n",
              "        [5.7, 2.6, 3.5, 1. ],\n",
              "        [5.5, 2.4, 3.8, 1.1],\n",
              "        [5.5, 2.4, 3.7, 1. ],\n",
              "        [5.8, 2.7, 3.9, 1.2],\n",
              "        [6. , 2.7, 5.1, 1.6],\n",
              "        [5.4, 3. , 4.5, 1.5],\n",
              "        [6. , 3.4, 4.5, 1.6],\n",
              "        [6.7, 3.1, 4.7, 1.5],\n",
              "        [6.3, 2.3, 4.4, 1.3],\n",
              "        [5.6, 3. , 4.1, 1.3],\n",
              "        [5.5, 2.5, 4. , 1.3],\n",
              "        [5.5, 2.6, 4.4, 1.2],\n",
              "        [6.1, 3. , 4.6, 1.4],\n",
              "        [5.8, 2.6, 4. , 1.2],\n",
              "        [5. , 2.3, 3.3, 1. ],\n",
              "        [5.6, 2.7, 4.2, 1.3],\n",
              "        [5.7, 3. , 4.2, 1.2],\n",
              "        [5.7, 2.9, 4.2, 1.3],\n",
              "        [6.2, 2.9, 4.3, 1.3],\n",
              "        [5.1, 2.5, 3. , 1.1],\n",
              "        [5.7, 2.8, 4.1, 1.3],\n",
              "        [6.3, 3.3, 6. , 2.5],\n",
              "        [5.8, 2.7, 5.1, 1.9],\n",
              "        [7.1, 3. , 5.9, 2.1],\n",
              "        [6.3, 2.9, 5.6, 1.8],\n",
              "        [6.5, 3. , 5.8, 2.2],\n",
              "        [7.6, 3. , 6.6, 2.1],\n",
              "        [4.9, 2.5, 4.5, 1.7],\n",
              "        [7.3, 2.9, 6.3, 1.8],\n",
              "        [6.7, 2.5, 5.8, 1.8],\n",
              "        [7.2, 3.6, 6.1, 2.5],\n",
              "        [6.5, 3.2, 5.1, 2. ],\n",
              "        [6.4, 2.7, 5.3, 1.9],\n",
              "        [6.8, 3. , 5.5, 2.1],\n",
              "        [5.7, 2.5, 5. , 2. ],\n",
              "        [5.8, 2.8, 5.1, 2.4],\n",
              "        [6.4, 3.2, 5.3, 2.3],\n",
              "        [6.5, 3. , 5.5, 1.8],\n",
              "        [7.7, 3.8, 6.7, 2.2],\n",
              "        [7.7, 2.6, 6.9, 2.3],\n",
              "        [6. , 2.2, 5. , 1.5],\n",
              "        [6.9, 3.2, 5.7, 2.3],\n",
              "        [5.6, 2.8, 4.9, 2. ],\n",
              "        [7.7, 2.8, 6.7, 2. ],\n",
              "        [6.3, 2.7, 4.9, 1.8],\n",
              "        [6.7, 3.3, 5.7, 2.1],\n",
              "        [7.2, 3.2, 6. , 1.8],\n",
              "        [6.2, 2.8, 4.8, 1.8],\n",
              "        [6.1, 3. , 4.9, 1.8],\n",
              "        [6.4, 2.8, 5.6, 2.1],\n",
              "        [7.2, 3. , 5.8, 1.6],\n",
              "        [7.4, 2.8, 6.1, 1.9],\n",
              "        [7.9, 3.8, 6.4, 2. ],\n",
              "        [6.4, 2.8, 5.6, 2.2],\n",
              "        [6.3, 2.8, 5.1, 1.5],\n",
              "        [6.1, 2.6, 5.6, 1.4],\n",
              "        [7.7, 3. , 6.1, 2.3],\n",
              "        [6.3, 3.4, 5.6, 2.4],\n",
              "        [6.4, 3.1, 5.5, 1.8],\n",
              "        [6. , 3. , 4.8, 1.8],\n",
              "        [6.9, 3.1, 5.4, 2.1],\n",
              "        [6.7, 3.1, 5.6, 2.4],\n",
              "        [6.9, 3.1, 5.1, 2.3],\n",
              "        [5.8, 2.7, 5.1, 1.9],\n",
              "        [6.8, 3.2, 5.9, 2.3],\n",
              "        [6.7, 3.3, 5.7, 2.5],\n",
              "        [6.7, 3. , 5.2, 2.3],\n",
              "        [6.3, 2.5, 5. , 1.9],\n",
              "        [6.5, 3. , 5.2, 2. ],\n",
              "        [6.2, 3.4, 5.4, 2.3],\n",
              "        [5.9, 3. , 5.1, 1.8]]),\n",
              " 'target': array([0, 0, 0, 0, 0, 0, 0, 0, 0, 0, 0, 0, 0, 0, 0, 0, 0, 0, 0, 0, 0, 0,\n",
              "        0, 0, 0, 0, 0, 0, 0, 0, 0, 0, 0, 0, 0, 0, 0, 0, 0, 0, 0, 0, 0, 0,\n",
              "        0, 0, 0, 0, 0, 0, 1, 1, 1, 1, 1, 1, 1, 1, 1, 1, 1, 1, 1, 1, 1, 1,\n",
              "        1, 1, 1, 1, 1, 1, 1, 1, 1, 1, 1, 1, 1, 1, 1, 1, 1, 1, 1, 1, 1, 1,\n",
              "        1, 1, 1, 1, 1, 1, 1, 1, 1, 1, 1, 1, 2, 2, 2, 2, 2, 2, 2, 2, 2, 2,\n",
              "        2, 2, 2, 2, 2, 2, 2, 2, 2, 2, 2, 2, 2, 2, 2, 2, 2, 2, 2, 2, 2, 2,\n",
              "        2, 2, 2, 2, 2, 2, 2, 2, 2, 2, 2, 2, 2, 2, 2, 2, 2, 2]),\n",
              " 'frame': None,\n",
              " 'target_names': array(['setosa', 'versicolor', 'virginica'], dtype='<U10'),\n",
              " 'DESCR': '.. _iris_dataset:\\n\\nIris plants dataset\\n--------------------\\n\\n**Data Set Characteristics:**\\n\\n    :Number of Instances: 150 (50 in each of three classes)\\n    :Number of Attributes: 4 numeric, predictive attributes and the class\\n    :Attribute Information:\\n        - sepal length in cm\\n        - sepal width in cm\\n        - petal length in cm\\n        - petal width in cm\\n        - class:\\n                - Iris-Setosa\\n                - Iris-Versicolour\\n                - Iris-Virginica\\n                \\n    :Summary Statistics:\\n\\n    ============== ==== ==== ======= ===== ====================\\n                    Min  Max   Mean    SD   Class Correlation\\n    ============== ==== ==== ======= ===== ====================\\n    sepal length:   4.3  7.9   5.84   0.83    0.7826\\n    sepal width:    2.0  4.4   3.05   0.43   -0.4194\\n    petal length:   1.0  6.9   3.76   1.76    0.9490  (high!)\\n    petal width:    0.1  2.5   1.20   0.76    0.9565  (high!)\\n    ============== ==== ==== ======= ===== ====================\\n\\n    :Missing Attribute Values: None\\n    :Class Distribution: 33.3% for each of 3 classes.\\n    :Creator: R.A. Fisher\\n    :Donor: Michael Marshall (MARSHALL%PLU@io.arc.nasa.gov)\\n    :Date: July, 1988\\n\\nThe famous Iris database, first used by Sir R.A. Fisher. The dataset is taken\\nfrom Fisher\\'s paper. Note that it\\'s the same as in R, but not as in the UCI\\nMachine Learning Repository, which has two wrong data points.\\n\\nThis is perhaps the best known database to be found in the\\npattern recognition literature.  Fisher\\'s paper is a classic in the field and\\nis referenced frequently to this day.  (See Duda & Hart, for example.)  The\\ndata set contains 3 classes of 50 instances each, where each class refers to a\\ntype of iris plant.  One class is linearly separable from the other 2; the\\nlatter are NOT linearly separable from each other.\\n\\n.. topic:: References\\n\\n   - Fisher, R.A. \"The use of multiple measurements in taxonomic problems\"\\n     Annual Eugenics, 7, Part II, 179-188 (1936); also in \"Contributions to\\n     Mathematical Statistics\" (John Wiley, NY, 1950).\\n   - Duda, R.O., & Hart, P.E. (1973) Pattern Classification and Scene Analysis.\\n     (Q327.D83) John Wiley & Sons.  ISBN 0-471-22361-1.  See page 218.\\n   - Dasarathy, B.V. (1980) \"Nosing Around the Neighborhood: A New System\\n     Structure and Classification Rule for Recognition in Partially Exposed\\n     Environments\".  IEEE Transactions on Pattern Analysis and Machine\\n     Intelligence, Vol. PAMI-2, No. 1, 67-71.\\n   - Gates, G.W. (1972) \"The Reduced Nearest Neighbor Rule\".  IEEE Transactions\\n     on Information Theory, May 1972, 431-433.\\n   - See also: 1988 MLC Proceedings, 54-64.  Cheeseman et al\"s AUTOCLASS II\\n     conceptual clustering system finds 3 classes in the data.\\n   - Many, many more ...',\n",
              " 'feature_names': ['sepal length (cm)',\n",
              "  'sepal width (cm)',\n",
              "  'petal length (cm)',\n",
              "  'petal width (cm)'],\n",
              " 'filename': 'iris.csv',\n",
              " 'data_module': 'sklearn.datasets.data'}"
            ]
          },
          "metadata": {},
          "execution_count": 2
        }
      ]
    },
    {
      "cell_type": "code",
      "source": [
        "type(iris_dataset)"
      ],
      "metadata": {
        "colab": {
          "base_uri": "https://localhost:8080/"
        },
        "id": "Hn3gouuprJoR",
        "outputId": "f033f17e-a7ff-410e-e450-1de80622905d"
      },
      "execution_count": null,
      "outputs": [
        {
          "output_type": "execute_result",
          "data": {
            "text/plain": [
              "sklearn.utils.Bunch"
            ]
          },
          "metadata": {},
          "execution_count": 3
        }
      ]
    },
    {
      "cell_type": "code",
      "source": [
        "iris_dataset.data"
      ],
      "metadata": {
        "colab": {
          "base_uri": "https://localhost:8080/"
        },
        "id": "G73naD-HrNnv",
        "outputId": "0e300c87-4cbb-4ec5-8b64-1204867cdd8c"
      },
      "execution_count": null,
      "outputs": [
        {
          "output_type": "execute_result",
          "data": {
            "text/plain": [
              "array([[5.1, 3.5, 1.4, 0.2],\n",
              "       [4.9, 3. , 1.4, 0.2],\n",
              "       [4.7, 3.2, 1.3, 0.2],\n",
              "       [4.6, 3.1, 1.5, 0.2],\n",
              "       [5. , 3.6, 1.4, 0.2],\n",
              "       [5.4, 3.9, 1.7, 0.4],\n",
              "       [4.6, 3.4, 1.4, 0.3],\n",
              "       [5. , 3.4, 1.5, 0.2],\n",
              "       [4.4, 2.9, 1.4, 0.2],\n",
              "       [4.9, 3.1, 1.5, 0.1],\n",
              "       [5.4, 3.7, 1.5, 0.2],\n",
              "       [4.8, 3.4, 1.6, 0.2],\n",
              "       [4.8, 3. , 1.4, 0.1],\n",
              "       [4.3, 3. , 1.1, 0.1],\n",
              "       [5.8, 4. , 1.2, 0.2],\n",
              "       [5.7, 4.4, 1.5, 0.4],\n",
              "       [5.4, 3.9, 1.3, 0.4],\n",
              "       [5.1, 3.5, 1.4, 0.3],\n",
              "       [5.7, 3.8, 1.7, 0.3],\n",
              "       [5.1, 3.8, 1.5, 0.3],\n",
              "       [5.4, 3.4, 1.7, 0.2],\n",
              "       [5.1, 3.7, 1.5, 0.4],\n",
              "       [4.6, 3.6, 1. , 0.2],\n",
              "       [5.1, 3.3, 1.7, 0.5],\n",
              "       [4.8, 3.4, 1.9, 0.2],\n",
              "       [5. , 3. , 1.6, 0.2],\n",
              "       [5. , 3.4, 1.6, 0.4],\n",
              "       [5.2, 3.5, 1.5, 0.2],\n",
              "       [5.2, 3.4, 1.4, 0.2],\n",
              "       [4.7, 3.2, 1.6, 0.2],\n",
              "       [4.8, 3.1, 1.6, 0.2],\n",
              "       [5.4, 3.4, 1.5, 0.4],\n",
              "       [5.2, 4.1, 1.5, 0.1],\n",
              "       [5.5, 4.2, 1.4, 0.2],\n",
              "       [4.9, 3.1, 1.5, 0.2],\n",
              "       [5. , 3.2, 1.2, 0.2],\n",
              "       [5.5, 3.5, 1.3, 0.2],\n",
              "       [4.9, 3.6, 1.4, 0.1],\n",
              "       [4.4, 3. , 1.3, 0.2],\n",
              "       [5.1, 3.4, 1.5, 0.2],\n",
              "       [5. , 3.5, 1.3, 0.3],\n",
              "       [4.5, 2.3, 1.3, 0.3],\n",
              "       [4.4, 3.2, 1.3, 0.2],\n",
              "       [5. , 3.5, 1.6, 0.6],\n",
              "       [5.1, 3.8, 1.9, 0.4],\n",
              "       [4.8, 3. , 1.4, 0.3],\n",
              "       [5.1, 3.8, 1.6, 0.2],\n",
              "       [4.6, 3.2, 1.4, 0.2],\n",
              "       [5.3, 3.7, 1.5, 0.2],\n",
              "       [5. , 3.3, 1.4, 0.2],\n",
              "       [7. , 3.2, 4.7, 1.4],\n",
              "       [6.4, 3.2, 4.5, 1.5],\n",
              "       [6.9, 3.1, 4.9, 1.5],\n",
              "       [5.5, 2.3, 4. , 1.3],\n",
              "       [6.5, 2.8, 4.6, 1.5],\n",
              "       [5.7, 2.8, 4.5, 1.3],\n",
              "       [6.3, 3.3, 4.7, 1.6],\n",
              "       [4.9, 2.4, 3.3, 1. ],\n",
              "       [6.6, 2.9, 4.6, 1.3],\n",
              "       [5.2, 2.7, 3.9, 1.4],\n",
              "       [5. , 2. , 3.5, 1. ],\n",
              "       [5.9, 3. , 4.2, 1.5],\n",
              "       [6. , 2.2, 4. , 1. ],\n",
              "       [6.1, 2.9, 4.7, 1.4],\n",
              "       [5.6, 2.9, 3.6, 1.3],\n",
              "       [6.7, 3.1, 4.4, 1.4],\n",
              "       [5.6, 3. , 4.5, 1.5],\n",
              "       [5.8, 2.7, 4.1, 1. ],\n",
              "       [6.2, 2.2, 4.5, 1.5],\n",
              "       [5.6, 2.5, 3.9, 1.1],\n",
              "       [5.9, 3.2, 4.8, 1.8],\n",
              "       [6.1, 2.8, 4. , 1.3],\n",
              "       [6.3, 2.5, 4.9, 1.5],\n",
              "       [6.1, 2.8, 4.7, 1.2],\n",
              "       [6.4, 2.9, 4.3, 1.3],\n",
              "       [6.6, 3. , 4.4, 1.4],\n",
              "       [6.8, 2.8, 4.8, 1.4],\n",
              "       [6.7, 3. , 5. , 1.7],\n",
              "       [6. , 2.9, 4.5, 1.5],\n",
              "       [5.7, 2.6, 3.5, 1. ],\n",
              "       [5.5, 2.4, 3.8, 1.1],\n",
              "       [5.5, 2.4, 3.7, 1. ],\n",
              "       [5.8, 2.7, 3.9, 1.2],\n",
              "       [6. , 2.7, 5.1, 1.6],\n",
              "       [5.4, 3. , 4.5, 1.5],\n",
              "       [6. , 3.4, 4.5, 1.6],\n",
              "       [6.7, 3.1, 4.7, 1.5],\n",
              "       [6.3, 2.3, 4.4, 1.3],\n",
              "       [5.6, 3. , 4.1, 1.3],\n",
              "       [5.5, 2.5, 4. , 1.3],\n",
              "       [5.5, 2.6, 4.4, 1.2],\n",
              "       [6.1, 3. , 4.6, 1.4],\n",
              "       [5.8, 2.6, 4. , 1.2],\n",
              "       [5. , 2.3, 3.3, 1. ],\n",
              "       [5.6, 2.7, 4.2, 1.3],\n",
              "       [5.7, 3. , 4.2, 1.2],\n",
              "       [5.7, 2.9, 4.2, 1.3],\n",
              "       [6.2, 2.9, 4.3, 1.3],\n",
              "       [5.1, 2.5, 3. , 1.1],\n",
              "       [5.7, 2.8, 4.1, 1.3],\n",
              "       [6.3, 3.3, 6. , 2.5],\n",
              "       [5.8, 2.7, 5.1, 1.9],\n",
              "       [7.1, 3. , 5.9, 2.1],\n",
              "       [6.3, 2.9, 5.6, 1.8],\n",
              "       [6.5, 3. , 5.8, 2.2],\n",
              "       [7.6, 3. , 6.6, 2.1],\n",
              "       [4.9, 2.5, 4.5, 1.7],\n",
              "       [7.3, 2.9, 6.3, 1.8],\n",
              "       [6.7, 2.5, 5.8, 1.8],\n",
              "       [7.2, 3.6, 6.1, 2.5],\n",
              "       [6.5, 3.2, 5.1, 2. ],\n",
              "       [6.4, 2.7, 5.3, 1.9],\n",
              "       [6.8, 3. , 5.5, 2.1],\n",
              "       [5.7, 2.5, 5. , 2. ],\n",
              "       [5.8, 2.8, 5.1, 2.4],\n",
              "       [6.4, 3.2, 5.3, 2.3],\n",
              "       [6.5, 3. , 5.5, 1.8],\n",
              "       [7.7, 3.8, 6.7, 2.2],\n",
              "       [7.7, 2.6, 6.9, 2.3],\n",
              "       [6. , 2.2, 5. , 1.5],\n",
              "       [6.9, 3.2, 5.7, 2.3],\n",
              "       [5.6, 2.8, 4.9, 2. ],\n",
              "       [7.7, 2.8, 6.7, 2. ],\n",
              "       [6.3, 2.7, 4.9, 1.8],\n",
              "       [6.7, 3.3, 5.7, 2.1],\n",
              "       [7.2, 3.2, 6. , 1.8],\n",
              "       [6.2, 2.8, 4.8, 1.8],\n",
              "       [6.1, 3. , 4.9, 1.8],\n",
              "       [6.4, 2.8, 5.6, 2.1],\n",
              "       [7.2, 3. , 5.8, 1.6],\n",
              "       [7.4, 2.8, 6.1, 1.9],\n",
              "       [7.9, 3.8, 6.4, 2. ],\n",
              "       [6.4, 2.8, 5.6, 2.2],\n",
              "       [6.3, 2.8, 5.1, 1.5],\n",
              "       [6.1, 2.6, 5.6, 1.4],\n",
              "       [7.7, 3. , 6.1, 2.3],\n",
              "       [6.3, 3.4, 5.6, 2.4],\n",
              "       [6.4, 3.1, 5.5, 1.8],\n",
              "       [6. , 3. , 4.8, 1.8],\n",
              "       [6.9, 3.1, 5.4, 2.1],\n",
              "       [6.7, 3.1, 5.6, 2.4],\n",
              "       [6.9, 3.1, 5.1, 2.3],\n",
              "       [5.8, 2.7, 5.1, 1.9],\n",
              "       [6.8, 3.2, 5.9, 2.3],\n",
              "       [6.7, 3.3, 5.7, 2.5],\n",
              "       [6.7, 3. , 5.2, 2.3],\n",
              "       [6.3, 2.5, 5. , 1.9],\n",
              "       [6.5, 3. , 5.2, 2. ],\n",
              "       [6.2, 3.4, 5.4, 2.3],\n",
              "       [5.9, 3. , 5.1, 1.8]])"
            ]
          },
          "metadata": {},
          "execution_count": 4
        }
      ]
    },
    {
      "cell_type": "code",
      "source": [
        "iris_dataset.target"
      ],
      "metadata": {
        "colab": {
          "base_uri": "https://localhost:8080/"
        },
        "id": "YBs6hCm-rq5w",
        "outputId": "f8cfff70-eba4-4b8b-a049-67ebf45eba52"
      },
      "execution_count": null,
      "outputs": [
        {
          "output_type": "execute_result",
          "data": {
            "text/plain": [
              "array([0, 0, 0, 0, 0, 0, 0, 0, 0, 0, 0, 0, 0, 0, 0, 0, 0, 0, 0, 0, 0, 0,\n",
              "       0, 0, 0, 0, 0, 0, 0, 0, 0, 0, 0, 0, 0, 0, 0, 0, 0, 0, 0, 0, 0, 0,\n",
              "       0, 0, 0, 0, 0, 0, 1, 1, 1, 1, 1, 1, 1, 1, 1, 1, 1, 1, 1, 1, 1, 1,\n",
              "       1, 1, 1, 1, 1, 1, 1, 1, 1, 1, 1, 1, 1, 1, 1, 1, 1, 1, 1, 1, 1, 1,\n",
              "       1, 1, 1, 1, 1, 1, 1, 1, 1, 1, 1, 1, 2, 2, 2, 2, 2, 2, 2, 2, 2, 2,\n",
              "       2, 2, 2, 2, 2, 2, 2, 2, 2, 2, 2, 2, 2, 2, 2, 2, 2, 2, 2, 2, 2, 2,\n",
              "       2, 2, 2, 2, 2, 2, 2, 2, 2, 2, 2, 2, 2, 2, 2, 2, 2, 2])"
            ]
          },
          "metadata": {},
          "execution_count": 5
        }
      ]
    },
    {
      "cell_type": "code",
      "source": [
        "iris_dataset.feature_names"
      ],
      "metadata": {
        "colab": {
          "base_uri": "https://localhost:8080/"
        },
        "id": "Ffe3a_UurtCM",
        "outputId": "59ef64d7-df2f-460c-df38-aa674c22a16d"
      },
      "execution_count": null,
      "outputs": [
        {
          "output_type": "execute_result",
          "data": {
            "text/plain": [
              "['sepal length (cm)',\n",
              " 'sepal width (cm)',\n",
              " 'petal length (cm)',\n",
              " 'petal width (cm)']"
            ]
          },
          "metadata": {},
          "execution_count": 6
        }
      ]
    },
    {
      "cell_type": "code",
      "source": [
        "df=pd.DataFrame(data=np.c_[iris_dataset.data, iris_dataset.target],\n",
        "                columns=iris_dataset.feature_names+[\"target\"])\n",
        "df"
      ],
      "metadata": {
        "colab": {
          "base_uri": "https://localhost:8080/",
          "height": 423
        },
        "id": "PRqDfykUry7w",
        "outputId": "58c368db-c8a4-4b9b-b934-402d62eb656f"
      },
      "execution_count": null,
      "outputs": [
        {
          "output_type": "execute_result",
          "data": {
            "text/plain": [
              "     sepal length (cm)  sepal width (cm)  petal length (cm)  petal width (cm)  \\\n",
              "0                  5.1               3.5                1.4               0.2   \n",
              "1                  4.9               3.0                1.4               0.2   \n",
              "2                  4.7               3.2                1.3               0.2   \n",
              "3                  4.6               3.1                1.5               0.2   \n",
              "4                  5.0               3.6                1.4               0.2   \n",
              "..                 ...               ...                ...               ...   \n",
              "145                6.7               3.0                5.2               2.3   \n",
              "146                6.3               2.5                5.0               1.9   \n",
              "147                6.5               3.0                5.2               2.0   \n",
              "148                6.2               3.4                5.4               2.3   \n",
              "149                5.9               3.0                5.1               1.8   \n",
              "\n",
              "     target  \n",
              "0       0.0  \n",
              "1       0.0  \n",
              "2       0.0  \n",
              "3       0.0  \n",
              "4       0.0  \n",
              "..      ...  \n",
              "145     2.0  \n",
              "146     2.0  \n",
              "147     2.0  \n",
              "148     2.0  \n",
              "149     2.0  \n",
              "\n",
              "[150 rows x 5 columns]"
            ],
            "text/html": [
              "\n",
              "  <div id=\"df-a7d9919e-b398-42d5-add8-bb3395f1ce11\">\n",
              "    <div class=\"colab-df-container\">\n",
              "      <div>\n",
              "<style scoped>\n",
              "    .dataframe tbody tr th:only-of-type {\n",
              "        vertical-align: middle;\n",
              "    }\n",
              "\n",
              "    .dataframe tbody tr th {\n",
              "        vertical-align: top;\n",
              "    }\n",
              "\n",
              "    .dataframe thead th {\n",
              "        text-align: right;\n",
              "    }\n",
              "</style>\n",
              "<table border=\"1\" class=\"dataframe\">\n",
              "  <thead>\n",
              "    <tr style=\"text-align: right;\">\n",
              "      <th></th>\n",
              "      <th>sepal length (cm)</th>\n",
              "      <th>sepal width (cm)</th>\n",
              "      <th>petal length (cm)</th>\n",
              "      <th>petal width (cm)</th>\n",
              "      <th>target</th>\n",
              "    </tr>\n",
              "  </thead>\n",
              "  <tbody>\n",
              "    <tr>\n",
              "      <th>0</th>\n",
              "      <td>5.1</td>\n",
              "      <td>3.5</td>\n",
              "      <td>1.4</td>\n",
              "      <td>0.2</td>\n",
              "      <td>0.0</td>\n",
              "    </tr>\n",
              "    <tr>\n",
              "      <th>1</th>\n",
              "      <td>4.9</td>\n",
              "      <td>3.0</td>\n",
              "      <td>1.4</td>\n",
              "      <td>0.2</td>\n",
              "      <td>0.0</td>\n",
              "    </tr>\n",
              "    <tr>\n",
              "      <th>2</th>\n",
              "      <td>4.7</td>\n",
              "      <td>3.2</td>\n",
              "      <td>1.3</td>\n",
              "      <td>0.2</td>\n",
              "      <td>0.0</td>\n",
              "    </tr>\n",
              "    <tr>\n",
              "      <th>3</th>\n",
              "      <td>4.6</td>\n",
              "      <td>3.1</td>\n",
              "      <td>1.5</td>\n",
              "      <td>0.2</td>\n",
              "      <td>0.0</td>\n",
              "    </tr>\n",
              "    <tr>\n",
              "      <th>4</th>\n",
              "      <td>5.0</td>\n",
              "      <td>3.6</td>\n",
              "      <td>1.4</td>\n",
              "      <td>0.2</td>\n",
              "      <td>0.0</td>\n",
              "    </tr>\n",
              "    <tr>\n",
              "      <th>...</th>\n",
              "      <td>...</td>\n",
              "      <td>...</td>\n",
              "      <td>...</td>\n",
              "      <td>...</td>\n",
              "      <td>...</td>\n",
              "    </tr>\n",
              "    <tr>\n",
              "      <th>145</th>\n",
              "      <td>6.7</td>\n",
              "      <td>3.0</td>\n",
              "      <td>5.2</td>\n",
              "      <td>2.3</td>\n",
              "      <td>2.0</td>\n",
              "    </tr>\n",
              "    <tr>\n",
              "      <th>146</th>\n",
              "      <td>6.3</td>\n",
              "      <td>2.5</td>\n",
              "      <td>5.0</td>\n",
              "      <td>1.9</td>\n",
              "      <td>2.0</td>\n",
              "    </tr>\n",
              "    <tr>\n",
              "      <th>147</th>\n",
              "      <td>6.5</td>\n",
              "      <td>3.0</td>\n",
              "      <td>5.2</td>\n",
              "      <td>2.0</td>\n",
              "      <td>2.0</td>\n",
              "    </tr>\n",
              "    <tr>\n",
              "      <th>148</th>\n",
              "      <td>6.2</td>\n",
              "      <td>3.4</td>\n",
              "      <td>5.4</td>\n",
              "      <td>2.3</td>\n",
              "      <td>2.0</td>\n",
              "    </tr>\n",
              "    <tr>\n",
              "      <th>149</th>\n",
              "      <td>5.9</td>\n",
              "      <td>3.0</td>\n",
              "      <td>5.1</td>\n",
              "      <td>1.8</td>\n",
              "      <td>2.0</td>\n",
              "    </tr>\n",
              "  </tbody>\n",
              "</table>\n",
              "<p>150 rows × 5 columns</p>\n",
              "</div>\n",
              "      <button class=\"colab-df-convert\" onclick=\"convertToInteractive('df-a7d9919e-b398-42d5-add8-bb3395f1ce11')\"\n",
              "              title=\"Convert this dataframe to an interactive table.\"\n",
              "              style=\"display:none;\">\n",
              "        \n",
              "  <svg xmlns=\"http://www.w3.org/2000/svg\" height=\"24px\"viewBox=\"0 0 24 24\"\n",
              "       width=\"24px\">\n",
              "    <path d=\"M0 0h24v24H0V0z\" fill=\"none\"/>\n",
              "    <path d=\"M18.56 5.44l.94 2.06.94-2.06 2.06-.94-2.06-.94-.94-2.06-.94 2.06-2.06.94zm-11 1L8.5 8.5l.94-2.06 2.06-.94-2.06-.94L8.5 2.5l-.94 2.06-2.06.94zm10 10l.94 2.06.94-2.06 2.06-.94-2.06-.94-.94-2.06-.94 2.06-2.06.94z\"/><path d=\"M17.41 7.96l-1.37-1.37c-.4-.4-.92-.59-1.43-.59-.52 0-1.04.2-1.43.59L10.3 9.45l-7.72 7.72c-.78.78-.78 2.05 0 2.83L4 21.41c.39.39.9.59 1.41.59.51 0 1.02-.2 1.41-.59l7.78-7.78 2.81-2.81c.8-.78.8-2.07 0-2.86zM5.41 20L4 18.59l7.72-7.72 1.47 1.35L5.41 20z\"/>\n",
              "  </svg>\n",
              "      </button>\n",
              "      \n",
              "  <style>\n",
              "    .colab-df-container {\n",
              "      display:flex;\n",
              "      flex-wrap:wrap;\n",
              "      gap: 12px;\n",
              "    }\n",
              "\n",
              "    .colab-df-convert {\n",
              "      background-color: #E8F0FE;\n",
              "      border: none;\n",
              "      border-radius: 50%;\n",
              "      cursor: pointer;\n",
              "      display: none;\n",
              "      fill: #1967D2;\n",
              "      height: 32px;\n",
              "      padding: 0 0 0 0;\n",
              "      width: 32px;\n",
              "    }\n",
              "\n",
              "    .colab-df-convert:hover {\n",
              "      background-color: #E2EBFA;\n",
              "      box-shadow: 0px 1px 2px rgba(60, 64, 67, 0.3), 0px 1px 3px 1px rgba(60, 64, 67, 0.15);\n",
              "      fill: #174EA6;\n",
              "    }\n",
              "\n",
              "    [theme=dark] .colab-df-convert {\n",
              "      background-color: #3B4455;\n",
              "      fill: #D2E3FC;\n",
              "    }\n",
              "\n",
              "    [theme=dark] .colab-df-convert:hover {\n",
              "      background-color: #434B5C;\n",
              "      box-shadow: 0px 1px 3px 1px rgba(0, 0, 0, 0.15);\n",
              "      filter: drop-shadow(0px 1px 2px rgba(0, 0, 0, 0.3));\n",
              "      fill: #FFFFFF;\n",
              "    }\n",
              "  </style>\n",
              "\n",
              "      <script>\n",
              "        const buttonEl =\n",
              "          document.querySelector('#df-a7d9919e-b398-42d5-add8-bb3395f1ce11 button.colab-df-convert');\n",
              "        buttonEl.style.display =\n",
              "          google.colab.kernel.accessAllowed ? 'block' : 'none';\n",
              "\n",
              "        async function convertToInteractive(key) {\n",
              "          const element = document.querySelector('#df-a7d9919e-b398-42d5-add8-bb3395f1ce11');\n",
              "          const dataTable =\n",
              "            await google.colab.kernel.invokeFunction('convertToInteractive',\n",
              "                                                     [key], {});\n",
              "          if (!dataTable) return;\n",
              "\n",
              "          const docLinkHtml = 'Like what you see? Visit the ' +\n",
              "            '<a target=\"_blank\" href=https://colab.research.google.com/notebooks/data_table.ipynb>data table notebook</a>'\n",
              "            + ' to learn more about interactive tables.';\n",
              "          element.innerHTML = '';\n",
              "          dataTable['output_type'] = 'display_data';\n",
              "          await google.colab.output.renderOutput(dataTable, element);\n",
              "          const docLink = document.createElement('div');\n",
              "          docLink.innerHTML = docLinkHtml;\n",
              "          element.appendChild(docLink);\n",
              "        }\n",
              "      </script>\n",
              "    </div>\n",
              "  </div>\n",
              "  "
            ]
          },
          "metadata": {},
          "execution_count": 7
        }
      ]
    },
    {
      "cell_type": "code",
      "source": [
        "X=df.iloc[:, 0:4]\n",
        "Y=df.iloc[:, 4]"
      ],
      "metadata": {
        "id": "OzoB7HUbst89"
      },
      "execution_count": null,
      "outputs": []
    },
    {
      "cell_type": "code",
      "source": [
        "X,Y"
      ],
      "metadata": {
        "colab": {
          "base_uri": "https://localhost:8080/"
        },
        "id": "cfJSWcVct2ca",
        "outputId": "d5d8fb85-18b2-40a7-97ec-f672ed03d15f"
      },
      "execution_count": null,
      "outputs": [
        {
          "output_type": "execute_result",
          "data": {
            "text/plain": [
              "(     sepal length (cm)  sepal width (cm)  petal length (cm)  petal width (cm)\n",
              " 0                  5.1               3.5                1.4               0.2\n",
              " 1                  4.9               3.0                1.4               0.2\n",
              " 2                  4.7               3.2                1.3               0.2\n",
              " 3                  4.6               3.1                1.5               0.2\n",
              " 4                  5.0               3.6                1.4               0.2\n",
              " ..                 ...               ...                ...               ...\n",
              " 145                6.7               3.0                5.2               2.3\n",
              " 146                6.3               2.5                5.0               1.9\n",
              " 147                6.5               3.0                5.2               2.0\n",
              " 148                6.2               3.4                5.4               2.3\n",
              " 149                5.9               3.0                5.1               1.8\n",
              " \n",
              " [150 rows x 4 columns], 0      0.0\n",
              " 1      0.0\n",
              " 2      0.0\n",
              " 3      0.0\n",
              " 4      0.0\n",
              "       ... \n",
              " 145    2.0\n",
              " 146    2.0\n",
              " 147    2.0\n",
              " 148    2.0\n",
              " 149    2.0\n",
              " Name: target, Length: 150, dtype: float64)"
            ]
          },
          "metadata": {},
          "execution_count": 9
        }
      ]
    },
    {
      "cell_type": "code",
      "source": [
        "Y=pd.get_dummies(Y).values\n",
        "Y"
      ],
      "metadata": {
        "colab": {
          "base_uri": "https://localhost:8080/"
        },
        "id": "XYEh-lwqt3P4",
        "outputId": "0da71e87-57cc-43ee-f5d1-56cf77a9fb91"
      },
      "execution_count": null,
      "outputs": [
        {
          "output_type": "execute_result",
          "data": {
            "text/plain": [
              "array([[1, 0, 0],\n",
              "       [1, 0, 0],\n",
              "       [1, 0, 0],\n",
              "       [1, 0, 0],\n",
              "       [1, 0, 0],\n",
              "       [1, 0, 0],\n",
              "       [1, 0, 0],\n",
              "       [1, 0, 0],\n",
              "       [1, 0, 0],\n",
              "       [1, 0, 0],\n",
              "       [1, 0, 0],\n",
              "       [1, 0, 0],\n",
              "       [1, 0, 0],\n",
              "       [1, 0, 0],\n",
              "       [1, 0, 0],\n",
              "       [1, 0, 0],\n",
              "       [1, 0, 0],\n",
              "       [1, 0, 0],\n",
              "       [1, 0, 0],\n",
              "       [1, 0, 0],\n",
              "       [1, 0, 0],\n",
              "       [1, 0, 0],\n",
              "       [1, 0, 0],\n",
              "       [1, 0, 0],\n",
              "       [1, 0, 0],\n",
              "       [1, 0, 0],\n",
              "       [1, 0, 0],\n",
              "       [1, 0, 0],\n",
              "       [1, 0, 0],\n",
              "       [1, 0, 0],\n",
              "       [1, 0, 0],\n",
              "       [1, 0, 0],\n",
              "       [1, 0, 0],\n",
              "       [1, 0, 0],\n",
              "       [1, 0, 0],\n",
              "       [1, 0, 0],\n",
              "       [1, 0, 0],\n",
              "       [1, 0, 0],\n",
              "       [1, 0, 0],\n",
              "       [1, 0, 0],\n",
              "       [1, 0, 0],\n",
              "       [1, 0, 0],\n",
              "       [1, 0, 0],\n",
              "       [1, 0, 0],\n",
              "       [1, 0, 0],\n",
              "       [1, 0, 0],\n",
              "       [1, 0, 0],\n",
              "       [1, 0, 0],\n",
              "       [1, 0, 0],\n",
              "       [1, 0, 0],\n",
              "       [0, 1, 0],\n",
              "       [0, 1, 0],\n",
              "       [0, 1, 0],\n",
              "       [0, 1, 0],\n",
              "       [0, 1, 0],\n",
              "       [0, 1, 0],\n",
              "       [0, 1, 0],\n",
              "       [0, 1, 0],\n",
              "       [0, 1, 0],\n",
              "       [0, 1, 0],\n",
              "       [0, 1, 0],\n",
              "       [0, 1, 0],\n",
              "       [0, 1, 0],\n",
              "       [0, 1, 0],\n",
              "       [0, 1, 0],\n",
              "       [0, 1, 0],\n",
              "       [0, 1, 0],\n",
              "       [0, 1, 0],\n",
              "       [0, 1, 0],\n",
              "       [0, 1, 0],\n",
              "       [0, 1, 0],\n",
              "       [0, 1, 0],\n",
              "       [0, 1, 0],\n",
              "       [0, 1, 0],\n",
              "       [0, 1, 0],\n",
              "       [0, 1, 0],\n",
              "       [0, 1, 0],\n",
              "       [0, 1, 0],\n",
              "       [0, 1, 0],\n",
              "       [0, 1, 0],\n",
              "       [0, 1, 0],\n",
              "       [0, 1, 0],\n",
              "       [0, 1, 0],\n",
              "       [0, 1, 0],\n",
              "       [0, 1, 0],\n",
              "       [0, 1, 0],\n",
              "       [0, 1, 0],\n",
              "       [0, 1, 0],\n",
              "       [0, 1, 0],\n",
              "       [0, 1, 0],\n",
              "       [0, 1, 0],\n",
              "       [0, 1, 0],\n",
              "       [0, 1, 0],\n",
              "       [0, 1, 0],\n",
              "       [0, 1, 0],\n",
              "       [0, 1, 0],\n",
              "       [0, 1, 0],\n",
              "       [0, 1, 0],\n",
              "       [0, 1, 0],\n",
              "       [0, 1, 0],\n",
              "       [0, 0, 1],\n",
              "       [0, 0, 1],\n",
              "       [0, 0, 1],\n",
              "       [0, 0, 1],\n",
              "       [0, 0, 1],\n",
              "       [0, 0, 1],\n",
              "       [0, 0, 1],\n",
              "       [0, 0, 1],\n",
              "       [0, 0, 1],\n",
              "       [0, 0, 1],\n",
              "       [0, 0, 1],\n",
              "       [0, 0, 1],\n",
              "       [0, 0, 1],\n",
              "       [0, 0, 1],\n",
              "       [0, 0, 1],\n",
              "       [0, 0, 1],\n",
              "       [0, 0, 1],\n",
              "       [0, 0, 1],\n",
              "       [0, 0, 1],\n",
              "       [0, 0, 1],\n",
              "       [0, 0, 1],\n",
              "       [0, 0, 1],\n",
              "       [0, 0, 1],\n",
              "       [0, 0, 1],\n",
              "       [0, 0, 1],\n",
              "       [0, 0, 1],\n",
              "       [0, 0, 1],\n",
              "       [0, 0, 1],\n",
              "       [0, 0, 1],\n",
              "       [0, 0, 1],\n",
              "       [0, 0, 1],\n",
              "       [0, 0, 1],\n",
              "       [0, 0, 1],\n",
              "       [0, 0, 1],\n",
              "       [0, 0, 1],\n",
              "       [0, 0, 1],\n",
              "       [0, 0, 1],\n",
              "       [0, 0, 1],\n",
              "       [0, 0, 1],\n",
              "       [0, 0, 1],\n",
              "       [0, 0, 1],\n",
              "       [0, 0, 1],\n",
              "       [0, 0, 1],\n",
              "       [0, 0, 1],\n",
              "       [0, 0, 1],\n",
              "       [0, 0, 1],\n",
              "       [0, 0, 1],\n",
              "       [0, 0, 1],\n",
              "       [0, 0, 1],\n",
              "       [0, 0, 1]], dtype=uint8)"
            ]
          },
          "metadata": {},
          "execution_count": 10
        }
      ]
    },
    {
      "cell_type": "code",
      "source": [
        "from sklearn.model_selection import train_test_split\n",
        "X_train, X_test, Y_train, Y_test = train_test_split(X, Y, test_size=0.2, random_state=0)"
      ],
      "metadata": {
        "id": "VWBr9xfWudYl"
      },
      "execution_count": null,
      "outputs": []
    },
    {
      "cell_type": "code",
      "source": [
        "print(X_train[0:5])\n",
        "print(Y_train[0:5])"
      ],
      "metadata": {
        "colab": {
          "base_uri": "https://localhost:8080/"
        },
        "id": "VuzVa-VnvCsa",
        "outputId": "a9e9b6af-0548-44eb-b174-797c7b168398"
      },
      "execution_count": null,
      "outputs": [
        {
          "output_type": "stream",
          "name": "stdout",
          "text": [
            "     sepal length (cm)  sepal width (cm)  petal length (cm)  petal width (cm)\n",
            "137                6.4               3.1                5.5               1.8\n",
            "84                 5.4               3.0                4.5               1.5\n",
            "27                 5.2               3.5                1.5               0.2\n",
            "127                6.1               3.0                4.9               1.8\n",
            "132                6.4               2.8                5.6               2.2\n",
            "[[0 0 1]\n",
            " [0 1 0]\n",
            " [1 0 0]\n",
            " [0 0 1]\n",
            " [0 0 1]]\n"
          ]
        }
      ]
    },
    {
      "cell_type": "code",
      "source": [
        "import tensorflow as tf\n",
        "from tensorflow.keras import layers, datasets, layers, models\n",
        "from tensorflow.keras.utils import to_categorical\n",
        "from tensorflow.keras.callbacks import EarlyStopping, ModelCheckpoint\n",
        "from keras.models import Sequential, load_model\n",
        "import pandas as pd\n",
        "import numpy as np"
      ],
      "metadata": {
        "id": "9aMgry5JvFqc"
      },
      "execution_count": null,
      "outputs": []
    },
    {
      "cell_type": "code",
      "source": [
        "model = tf.keras.models.Sequential()\n",
        "#input at it own\n",
        "model.add(tf.keras.layers.Input(shape=(4)))             # input layer\n",
        "model.add(tf.keras.layers.Dense(32, activation='relu'))\n",
        "model.add(tf.keras.layers.Dense(16, activation='relu'))   # hidden layers\n",
        "model.add(tf.keras.layers.Dense(8, activation='relu'))\n",
        "model.add(tf.keras.layers.Dense(3, activation='softmax')) # output layer\n",
        "\n",
        "model.compile(optimizer='adamax',             \n",
        "              loss='categorical_crossentropy',  # how to calculate loss,, here it is like, if value was 0 but was predicted 1, then it is an error and vice versa!\n",
        "              metrics=['accuracy'])             # to provide us accuracy side by side\n",
        "\n",
        "history = model.fit(X_train, Y_train, validation_data=(X_test, Y_test), batch_size=50, epochs=20)   # actual training of the model ( we are also validating it along the way! )"
      ],
      "metadata": {
        "colab": {
          "base_uri": "https://localhost:8080/"
        },
        "id": "gFDWOjSDveTW",
        "outputId": "619e0413-d2cd-40f2-a9c3-a9311f996cb8"
      },
      "execution_count": null,
      "outputs": [
        {
          "output_type": "stream",
          "name": "stdout",
          "text": [
            "Epoch 1/20\n",
            "3/3 [==============================] - 1s 109ms/step - loss: 1.0743 - accuracy: 0.4083 - val_loss: 1.0801 - val_accuracy: 0.2000\n",
            "Epoch 2/20\n",
            "3/3 [==============================] - 0s 14ms/step - loss: 1.0571 - accuracy: 0.3667 - val_loss: 1.0684 - val_accuracy: 0.2000\n",
            "Epoch 3/20\n",
            "3/3 [==============================] - 0s 16ms/step - loss: 1.0465 - accuracy: 0.3667 - val_loss: 1.0603 - val_accuracy: 0.2000\n",
            "Epoch 4/20\n",
            "3/3 [==============================] - 0s 16ms/step - loss: 1.0374 - accuracy: 0.3667 - val_loss: 1.0527 - val_accuracy: 0.2000\n",
            "Epoch 5/20\n",
            "3/3 [==============================] - 0s 15ms/step - loss: 1.0290 - accuracy: 0.3667 - val_loss: 1.0480 - val_accuracy: 0.2000\n",
            "Epoch 6/20\n",
            "3/3 [==============================] - 0s 16ms/step - loss: 1.0212 - accuracy: 0.3667 - val_loss: 1.0420 - val_accuracy: 0.2000\n",
            "Epoch 7/20\n",
            "3/3 [==============================] - 0s 15ms/step - loss: 1.0138 - accuracy: 0.3667 - val_loss: 1.0356 - val_accuracy: 0.2000\n",
            "Epoch 8/20\n",
            "3/3 [==============================] - 0s 14ms/step - loss: 1.0064 - accuracy: 0.3667 - val_loss: 1.0282 - val_accuracy: 0.2000\n",
            "Epoch 9/20\n",
            "3/3 [==============================] - 0s 14ms/step - loss: 0.9986 - accuracy: 0.3667 - val_loss: 1.0205 - val_accuracy: 0.2333\n",
            "Epoch 10/20\n",
            "3/3 [==============================] - 0s 14ms/step - loss: 0.9912 - accuracy: 0.3667 - val_loss: 1.0142 - val_accuracy: 0.2333\n",
            "Epoch 11/20\n",
            "3/3 [==============================] - 0s 15ms/step - loss: 0.9847 - accuracy: 0.3667 - val_loss: 1.0080 - val_accuracy: 0.2667\n",
            "Epoch 12/20\n",
            "3/3 [==============================] - 0s 15ms/step - loss: 0.9780 - accuracy: 0.3917 - val_loss: 1.0015 - val_accuracy: 0.3333\n",
            "Epoch 13/20\n",
            "3/3 [==============================] - 0s 22ms/step - loss: 0.9717 - accuracy: 0.4250 - val_loss: 0.9956 - val_accuracy: 0.3667\n",
            "Epoch 14/20\n",
            "3/3 [==============================] - 0s 24ms/step - loss: 0.9662 - accuracy: 0.5250 - val_loss: 0.9896 - val_accuracy: 0.4000\n",
            "Epoch 15/20\n",
            "3/3 [==============================] - 0s 28ms/step - loss: 0.9594 - accuracy: 0.5833 - val_loss: 0.9837 - val_accuracy: 0.5000\n",
            "Epoch 16/20\n",
            "3/3 [==============================] - 0s 29ms/step - loss: 0.9531 - accuracy: 0.6500 - val_loss: 0.9783 - val_accuracy: 0.5333\n",
            "Epoch 17/20\n",
            "3/3 [==============================] - 0s 21ms/step - loss: 0.9471 - accuracy: 0.6667 - val_loss: 0.9732 - val_accuracy: 0.5667\n",
            "Epoch 18/20\n",
            "3/3 [==============================] - 0s 25ms/step - loss: 0.9411 - accuracy: 0.6750 - val_loss: 0.9680 - val_accuracy: 0.5667\n",
            "Epoch 19/20\n",
            "3/3 [==============================] - 0s 21ms/step - loss: 0.9350 - accuracy: 0.6833 - val_loss: 0.9628 - val_accuracy: 0.5667\n",
            "Epoch 20/20\n",
            "3/3 [==============================] - 0s 14ms/step - loss: 0.9290 - accuracy: 0.6833 - val_loss: 0.9574 - val_accuracy: 0.5667\n"
          ]
        }
      ]
    },
    {
      "cell_type": "code",
      "source": [
        "from matplotlib import pyplot\n",
        "# plot training history\n",
        "pyplot.title('Loss')\n",
        "pyplot.plot(history.history['loss'], label='train')\n",
        "pyplot.plot(history.history['val_loss'], label='test')\n",
        "pyplot.legend()\n",
        "pyplot.show()"
      ],
      "metadata": {
        "colab": {
          "base_uri": "https://localhost:8080/",
          "height": 281
        },
        "id": "T1Ogbu3evjEA",
        "outputId": "1f2b7722-a3a2-4bf6-ef16-8650c572e9d4"
      },
      "execution_count": null,
      "outputs": [
        {
          "output_type": "display_data",
          "data": {
            "text/plain": [
              "<Figure size 432x288 with 1 Axes>"
            ],
            "image/png": "[encoded data removed]"
          },
          "metadata": {
            "needs_background": "light"
          }
        }
      ]
    },
    {
      "cell_type": "code",
      "source": [
        "from matplotlib import pyplot\n",
        "# plot training history\n",
        "pyplot.title('Accuraccy')\n",
        "pyplot.plot(history.history['accuracy'], label='train')\n",
        "pyplot.plot(history.history['val_accuracy'], label='test')\n",
        "pyplot.legend()\n",
        "pyplot.show()"
      ],
      "metadata": {
        "colab": {
          "base_uri": "https://localhost:8080/",
          "height": 281
        },
        "id": "Hv6jgQOv09qB",
        "outputId": "48388e70-759e-4b5c-9b55-cb8bb28758d2"
      },
      "execution_count": null,
      "outputs": [
        {
          "output_type": "display_data",
          "data": {
            "text/plain": [
              "<Figure size 432x288 with 1 Axes>"
            ],
            "image/png": "[encoded data removed]"
          },
          "metadata": {
            "needs_background": "light"
          }
        }
      ]
    },
    {
      "cell_type": "code",
      "source": [
        "!pip install -q pyyaml h5py  # Required to save models in HDF5 format\n",
        "filepath = 'iris_best_model.hdf5'"
      ],
      "metadata": {
        "id": "KJgBFuGB0_N6"
      },
      "execution_count": null,
      "outputs": []
    },
    {
      "cell_type": "code",
      "source": [
        "create_model = True\n",
        "model = tf.keras.models.Sequential()\n",
        "\n",
        "if create_model:\n",
        "  model.add(tf.keras.layers.Input(shape=(4)))   # input layer\n",
        "  model.add(tf.keras.layers.Dense(512, activation='relu')) # convolutional layer\n",
        "  model.add(tf.keras.layers.Dropout(0.5))       # droupout as in, here were turn of some neurons to get more accurate results, to balance the neural network\n",
        "  model.add(tf.keras.layers.Dense(16, activation='relu'))  \n",
        "  model.add(tf.keras.layers.Dropout(0.5))\n",
        "  model.add(tf.keras.layers.Dense(3, activation='softmax'))\n",
        "else:\n",
        "  model = load_model(filepath)    # we have alr trained model\n",
        "\n",
        "model.compile(loss = 'categorical_crossentropy', optimizer = 'adam', metrics = ['accuracy'])\n",
        "\n",
        "es = EarlyStopping(monitor = 'val_accuracy', mode = 'max', verbose = 1, patience = 3)    # we do early stopping to avoid our model getting lost in local maxima/minima\n",
        "mc = ModelCheckpoint(filepath= filepath, monitor = 'val_accuracy', mode = 'max', verbose = 1, save_best_only = True)   # saves model if val_accuracy is improved\n",
        "\n",
        "history = model.fit(X_train, Y_train, validation_data=(X_test, Y_test), callbacks = [es, mc], batch_size = 50, epochs = 20)  # model training"
      ],
      "metadata": {
        "colab": {
          "base_uri": "https://localhost:8080/"
        },
        "id": "eqFLMX7O1QyU",
        "outputId": "a2c3ef54-1b2e-43d6-c6ac-9dcc4203bda9"
      },
      "execution_count": null,
      "outputs": [
        {
          "output_type": "stream",
          "name": "stdout",
          "text": [
            "Epoch 1/20\n",
            "1/3 [=========>....................] - ETA: 0s - loss: 1.1878 - accuracy: 0.3800\n",
            "Epoch 1: val_accuracy improved from -inf to 0.20000, saving model to iris_best_model.hdf5\n",
            "3/3 [==============================] - 1s 121ms/step - loss: 1.3331 - accuracy: 0.3083 - val_loss: 1.1396 - val_accuracy: 0.2000\n",
            "Epoch 2/20\n",
            "1/3 [=========>....................] - ETA: 0s - loss: 1.2730 - accuracy: 0.2800\n",
            "Epoch 2: val_accuracy improved from 0.20000 to 0.56667, saving model to iris_best_model.hdf5\n",
            "3/3 [==============================] - 0s 26ms/step - loss: 1.1970 - accuracy: 0.3417 - val_loss: 1.0613 - val_accuracy: 0.5667\n",
            "Epoch 3/20\n",
            "1/3 [=========>....................] - ETA: 0s - loss: 1.1362 - accuracy: 0.4000\n",
            "Epoch 3: val_accuracy did not improve from 0.56667\n",
            "3/3 [==============================] - 0s 18ms/step - loss: 1.0719 - accuracy: 0.4667 - val_loss: 1.0195 - val_accuracy: 0.5667\n",
            "Epoch 4/20\n",
            "1/3 [=========>....................] - ETA: 0s - loss: 1.0648 - accuracy: 0.5000\n",
            "Epoch 4: val_accuracy improved from 0.56667 to 0.80000, saving model to iris_best_model.hdf5\n",
            "3/3 [==============================] - 0s 32ms/step - loss: 1.0456 - accuracy: 0.4917 - val_loss: 0.9734 - val_accuracy: 0.8000\n",
            "Epoch 5/20\n",
            "1/3 [=========>....................] - ETA: 0s - loss: 0.9599 - accuracy: 0.5600\n",
            "Epoch 5: val_accuracy did not improve from 0.80000\n",
            "3/3 [==============================] - 0s 15ms/step - loss: 0.9736 - accuracy: 0.5750 - val_loss: 0.9351 - val_accuracy: 0.7333\n",
            "Epoch 6/20\n",
            "1/3 [=========>....................] - ETA: 0s - loss: 0.9436 - accuracy: 0.5000\n",
            "Epoch 6: val_accuracy did not improve from 0.80000\n",
            "3/3 [==============================] - 0s 26ms/step - loss: 0.9351 - accuracy: 0.5000 - val_loss: 0.9029 - val_accuracy: 0.5667\n",
            "Epoch 7/20\n",
            "1/3 [=========>....................] - ETA: 0s - loss: 0.8634 - accuracy: 0.6600\n",
            "Epoch 7: val_accuracy did not improve from 0.80000\n",
            "3/3 [==============================] - 0s 18ms/step - loss: 0.9096 - accuracy: 0.6167 - val_loss: 0.8711 - val_accuracy: 0.5667\n",
            "Epoch 7: early stopping\n"
          ]
        }
      ]
    },
    {
      "cell_type": "code",
      "source": [
        "from matplotlib import pyplot\n",
        "# plot training history\n",
        "pyplot.title('Loss')\n",
        "pyplot.plot(history.history['loss'], label='train')\n",
        "pyplot.plot(history.history['val_loss'], label='test')\n",
        "pyplot.legend()\n",
        "pyplot.show()"
      ],
      "metadata": {
        "colab": {
          "base_uri": "https://localhost:8080/",
          "height": 281
        },
        "id": "JYb_iD5s1_qK",
        "outputId": "866e0e5c-ca17-40e6-ad8d-09e875331982"
      },
      "execution_count": null,
      "outputs": [
        {
          "output_type": "display_data",
          "data": {
            "text/plain": [
              "<Figure size 432x288 with 1 Axes>"
            ],
            "image/png": "[encoded data removed]"
          },
          "metadata": {
            "needs_background": "light"
          }
        }
      ]
    },
    {
      "cell_type": "code",
      "source": [
        "from matplotlib import pyplot\n",
        "# plot training history\n",
        "pyplot.title('Accuraccy')\n",
        "pyplot.plot(history.history['accuracy'], label='train')\n",
        "pyplot.plot(history.history['val_accuracy'], label='test')\n",
        "pyplot.legend()\n",
        "pyplot.show()"
      ],
      "metadata": {
        "id": "FS8CHzMm2BUt",
        "outputId": "adb54cd1-d66c-463c-be64-a3345139e8f9",
        "colab": {
          "base_uri": "https://localhost:8080/",
          "height": 281
        }
      },
      "execution_count": null,
      "outputs": [
        {
          "output_type": "display_data",
          "data": {
            "text/plain": [
              "<Figure size 432x288 with 1 Axes>"
            ],
            "image/png": "[encoded data removed]"
          },
          "metadata": {
            "needs_background": "light"
          }
        }
      ]
    },
    {
      "cell_type": "code",
      "source": [
        "model.summary()"
      ],
      "metadata": {
        "id": "TgaSAqsf2CqS",
        "colab": {
          "base_uri": "https://localhost:8080/"
        },
        "outputId": "61e3642c-0d07-454b-83cf-7752aeb078e6"
      },
      "execution_count": null,
      "outputs": [
        {
          "output_type": "stream",
          "name": "stdout",
          "text": [
            "Model: \"sequential_1\"\n",
            "_________________________________________________________________\n",
            " Layer (type)                Output Shape              Param #   \n",
            "=================================================================\n",
            " dense_4 (Dense)             (None, 512)               2560      \n",
            "                                                                 \n",
            " dropout (Dropout)           (None, 512)               0         \n",
            "                                                                 \n",
            " dense_5 (Dense)             (None, 16)                8208      \n",
            "                                                                 \n",
            " dropout_1 (Dropout)         (None, 16)                0         \n",
            "                                                                 \n",
            " dense_6 (Dense)             (None, 3)                 51        \n",
            "                                                                 \n",
            "=================================================================\n",
            "Total params: 10,819\n",
            "Trainable params: 10,819\n",
            "Non-trainable params: 0\n",
            "_________________________________________________________________\n"
          ]
        }
      ]
    },
    {
      "cell_type": "markdown",
      "source": [
        "* adding learning rate, trying other optimizers and diff combos for convolutional layer."
      ],
      "metadata": {
        "id": "XhK1MYlylALk"
      }
    },
    {
      "cell_type": "code",
      "source": [
        "from tensorflow import keras\n",
        "\n",
        "model_new = tf.keras.models.Sequential()\n",
        "#input at it own\n",
        "model.add(tf.keras.layers.Input(shape=(4)))             # input layer\n",
        "model.add(tf.keras.layers.Dense(32, activation='relu'))     \n",
        "model.add(tf.keras.layers.Dense(16, activation='relu'))   # hidden layers    \n",
        "model.add(tf.keras.layers.Dense(9, activation='relu'))      \n",
        "model.add(tf.keras.layers.Dense(3, activation='softmax')) # output layer\n",
        "\n",
        "\n",
        "opt= keras.optimizers.Adam(learning_rate=0.01)\n",
        "\n",
        "model.compile(optimizer = opt ,             \n",
        "              loss='categorical_crossentropy',  # how to calculate loss,, here it is like, if value was 0 but was predicted 1, then it is an error and vice versa!\n",
        "              metrics=['accuracy'])             # to provide us accuracy side by side\n",
        "\n",
        "history = model.fit(X_train, Y_train, validation_data=(X_test, Y_test), batch_size=50, epochs=20)   # actual training of the model ( we are also validating it along the way! )"
      ],
      "metadata": {
        "colab": {
          "base_uri": "https://localhost:8080/"
        },
        "id": "RK-2TRw5ilGP",
        "outputId": "08841a50-eb6a-4ea0-a245-00a8e1b7e897"
      },
      "execution_count": null,
      "outputs": [
        {
          "output_type": "stream",
          "name": "stdout",
          "text": [
            "Epoch 1/20\n",
            "3/3 [==============================] - 5s 372ms/step - loss: 1.1011 - accuracy: 0.3500 - val_loss: 1.1077 - val_accuracy: 0.2000\n",
            "Epoch 2/20\n",
            "3/3 [==============================] - 0s 22ms/step - loss: 1.0979 - accuracy: 0.3667 - val_loss: 1.1181 - val_accuracy: 0.2000\n",
            "Epoch 3/20\n",
            "3/3 [==============================] - 0s 22ms/step - loss: 1.0962 - accuracy: 0.3667 - val_loss: 1.1288 - val_accuracy: 0.2000\n",
            "Epoch 4/20\n",
            "3/3 [==============================] - 0s 22ms/step - loss: 1.0965 - accuracy: 0.3667 - val_loss: 1.1315 - val_accuracy: 0.2000\n",
            "Epoch 5/20\n",
            "3/3 [==============================] - 0s 22ms/step - loss: 1.0966 - accuracy: 0.3667 - val_loss: 1.1316 - val_accuracy: 0.2000\n",
            "Epoch 6/20\n",
            "3/3 [==============================] - 0s 22ms/step - loss: 1.0967 - accuracy: 0.3667 - val_loss: 1.1277 - val_accuracy: 0.2000\n",
            "Epoch 7/20\n",
            "3/3 [==============================] - 0s 25ms/step - loss: 1.0957 - accuracy: 0.3667 - val_loss: 1.1149 - val_accuracy: 0.2000\n",
            "Epoch 8/20\n",
            "3/3 [==============================] - 0s 25ms/step - loss: 1.0967 - accuracy: 0.3667 - val_loss: 1.1070 - val_accuracy: 0.2000\n",
            "Epoch 9/20\n",
            "3/3 [==============================] - 0s 23ms/step - loss: 1.0972 - accuracy: 0.3667 - val_loss: 1.1076 - val_accuracy: 0.2000\n",
            "Epoch 10/20\n",
            "3/3 [==============================] - 0s 23ms/step - loss: 1.0973 - accuracy: 0.3667 - val_loss: 1.1087 - val_accuracy: 0.2000\n",
            "Epoch 11/20\n",
            "3/3 [==============================] - 0s 24ms/step - loss: 1.0973 - accuracy: 0.3667 - val_loss: 1.1099 - val_accuracy: 0.2000\n",
            "Epoch 12/20\n",
            "3/3 [==============================] - 0s 23ms/step - loss: 1.0970 - accuracy: 0.3667 - val_loss: 1.1116 - val_accuracy: 0.2000\n",
            "Epoch 13/20\n",
            "3/3 [==============================] - 0s 23ms/step - loss: 1.0964 - accuracy: 0.3667 - val_loss: 1.1190 - val_accuracy: 0.2000\n",
            "Epoch 14/20\n",
            "3/3 [==============================] - 0s 23ms/step - loss: 1.0965 - accuracy: 0.3667 - val_loss: 1.1250 - val_accuracy: 0.2000\n",
            "Epoch 15/20\n",
            "3/3 [==============================] - 0s 28ms/step - loss: 1.0961 - accuracy: 0.3667 - val_loss: 1.1258 - val_accuracy: 0.2000\n",
            "Epoch 16/20\n",
            "3/3 [==============================] - 0s 23ms/step - loss: 1.0962 - accuracy: 0.3667 - val_loss: 1.1256 - val_accuracy: 0.2000\n",
            "Epoch 17/20\n",
            "3/3 [==============================] - 0s 23ms/step - loss: 1.0964 - accuracy: 0.3667 - val_loss: 1.1230 - val_accuracy: 0.2000\n",
            "Epoch 18/20\n",
            "3/3 [==============================] - 0s 35ms/step - loss: 1.0963 - accuracy: 0.3667 - val_loss: 1.1242 - val_accuracy: 0.2000\n",
            "Epoch 19/20\n",
            "3/3 [==============================] - 0s 23ms/step - loss: 1.0964 - accuracy: 0.3667 - val_loss: 1.1237 - val_accuracy: 0.2000\n",
            "Epoch 20/20\n",
            "3/3 [==============================] - 0s 24ms/step - loss: 1.0959 - accuracy: 0.3667 - val_loss: 1.1185 - val_accuracy: 0.2000\n"
          ]
        }
      ]
    },
    {
      "cell_type": "code",
      "source": [
        "model.summary()"
      ],
      "metadata": {
        "colab": {
          "base_uri": "https://localhost:8080/"
        },
        "id": "ME4qi_Q-lIw0",
        "outputId": "26b9da29-a63c-432c-9872-5bc6fc896b27"
      },
      "execution_count": null,
      "outputs": [
        {
          "output_type": "stream",
          "name": "stdout",
          "text": [
            "Model: \"sequential_2\"\n",
            "_________________________________________________________________\n",
            " Layer (type)                Output Shape              Param #   \n",
            "=================================================================\n",
            " dense_7 (Dense)             (None, 32)                160       \n",
            "                                                                 \n",
            " dense_8 (Dense)             (None, 16)                528       \n",
            "                                                                 \n",
            " dense_9 (Dense)             (None, 8)                 136       \n",
            "                                                                 \n",
            " dense_10 (Dense)            (None, 3)                 27        \n",
            "                                                                 \n",
            " input_4 (InputLayer)        multiple                  0         \n",
            "                                                                 \n",
            " dense_11 (Dense)            (None, 32)                128       \n",
            "                                                                 \n",
            " dense_12 (Dense)            (None, 25)                825       \n",
            "                                                                 \n",
            " dense_13 (Dense)            (None, 9)                 234       \n",
            "                                                                 \n",
            " dense_14 (Dense)            (None, 3)                 30        \n",
            "                                                                 \n",
            " input_5 (InputLayer)        multiple                  0         \n",
            "                                                                 \n",
            " dense_15 (Dense)            (None, 32)                128       \n",
            "                                                                 \n",
            " dense_16 (Dense)            (None, 25)                825       \n",
            "                                                                 \n",
            " dense_17 (Dense)            (None, 9)                 234       \n",
            "                                                                 \n",
            " dense_18 (Dense)            (None, 3)                 30        \n",
            "                                                                 \n",
            " input_6 (InputLayer)        multiple                  0         \n",
            "                                                                 \n",
            " dense_19 (Dense)            (None, 32)                128       \n",
            "                                                                 \n",
            " dense_20 (Dense)            (None, 25)                825       \n",
            "                                                                 \n",
            " dense_21 (Dense)            (None, 9)                 234       \n",
            "                                                                 \n",
            " dense_22 (Dense)            (None, 3)                 30        \n",
            "                                                                 \n",
            " input_7 (InputLayer)        multiple                  0         \n",
            "                                                                 \n",
            " dense_23 (Dense)            (None, 32)                128       \n",
            "                                                                 \n",
            " dense_24 (Dense)            (None, 25)                825       \n",
            "                                                                 \n",
            " dense_25 (Dense)            (None, 9)                 234       \n",
            "                                                                 \n",
            " dense_26 (Dense)            (None, 3)                 30        \n",
            "                                                                 \n",
            " input_8 (InputLayer)        multiple                  0         \n",
            "                                                                 \n",
            " dense_27 (Dense)            (None, 32)                128       \n",
            "                                                                 \n",
            " dropout_2 (Dropout)         (None, 32)                0         \n",
            "                                                                 \n",
            " dense_28 (Dense)            (None, 25)                825       \n",
            "                                                                 \n",
            " dropout_3 (Dropout)         (None, 25)                0         \n",
            "                                                                 \n",
            " dense_29 (Dense)            (None, 9)                 234       \n",
            "                                                                 \n",
            " dropout_4 (Dropout)         (None, 9)                 0         \n",
            "                                                                 \n",
            " dense_30 (Dense)            (None, 3)                 30        \n",
            "                                                                 \n",
            " input_9 (InputLayer)        multiple                  0         \n",
            "                                                                 \n",
            " dense_31 (Dense)            (None, 32)                128       \n",
            "                                                                 \n",
            " dropout_5 (Dropout)         (None, 32)                0         \n",
            "                                                                 \n",
            " dense_32 (Dense)            (None, 25)                825       \n",
            "                                                                 \n",
            " dropout_6 (Dropout)         (None, 25)                0         \n",
            "                                                                 \n",
            " dense_33 (Dense)            (None, 9)                 234       \n",
            "                                                                 \n",
            " dropout_7 (Dropout)         (None, 9)                 0         \n",
            "                                                                 \n",
            " dense_34 (Dense)            (None, 3)                 30        \n",
            "                                                                 \n",
            " input_10 (InputLayer)       multiple                  0         \n",
            "                                                                 \n",
            " dense_35 (Dense)            (None, 32)                128       \n",
            "                                                                 \n",
            " dropout_8 (Dropout)         (None, 32)                0         \n",
            "                                                                 \n",
            " dense_36 (Dense)            (None, 25)                825       \n",
            "                                                                 \n",
            " dropout_9 (Dropout)         (None, 25)                0         \n",
            "                                                                 \n",
            " dense_37 (Dense)            (None, 9)                 234       \n",
            "                                                                 \n",
            " dropout_10 (Dropout)        (None, 9)                 0         \n",
            "                                                                 \n",
            " dense_38 (Dense)            (None, 3)                 30        \n",
            "                                                                 \n",
            " input_11 (InputLayer)       multiple                  0         \n",
            "                                                                 \n",
            " dense_39 (Dense)            (None, 32)                128       \n",
            "                                                                 \n",
            " dropout_11 (Dropout)        (None, 32)                0         \n",
            "                                                                 \n",
            " dense_40 (Dense)            (None, 25)                825       \n",
            "                                                                 \n",
            " dropout_12 (Dropout)        (None, 25)                0         \n",
            "                                                                 \n",
            " dense_41 (Dense)            (None, 9)                 234       \n",
            "                                                                 \n",
            " dropout_13 (Dropout)        (None, 9)                 0         \n",
            "                                                                 \n",
            " dense_42 (Dense)            (None, 3)                 30        \n",
            "                                                                 \n",
            " input_12 (InputLayer)       multiple                  0         \n",
            "                                                                 \n",
            " dense_43 (Dense)            (None, 32)                128       \n",
            "                                                                 \n",
            " dropout_14 (Dropout)        (None, 32)                0         \n",
            "                                                                 \n",
            " dense_44 (Dense)            (None, 25)                825       \n",
            "                                                                 \n",
            " dropout_15 (Dropout)        (None, 25)                0         \n",
            "                                                                 \n",
            " dense_45 (Dense)            (None, 9)                 234       \n",
            "                                                                 \n",
            " dropout_16 (Dropout)        (None, 9)                 0         \n",
            "                                                                 \n",
            " dense_46 (Dense)            (None, 3)                 30        \n",
            "                                                                 \n",
            " input_13 (InputLayer)       multiple                  0         \n",
            "                                                                 \n",
            " dense_47 (Dense)            (None, 32)                128       \n",
            "                                                                 \n",
            " dropout_17 (Dropout)        (None, 32)                0         \n",
            "                                                                 \n",
            " dense_48 (Dense)            (None, 25)                825       \n",
            "                                                                 \n",
            " dropout_18 (Dropout)        (None, 25)                0         \n",
            "                                                                 \n",
            " dense_49 (Dense)            (None, 9)                 234       \n",
            "                                                                 \n",
            " dropout_19 (Dropout)        (None, 9)                 0         \n",
            "                                                                 \n",
            " dense_50 (Dense)            (None, 3)                 30        \n",
            "                                                                 \n",
            " input_14 (InputLayer)       multiple                  0         \n",
            "                                                                 \n",
            " dense_51 (Dense)            (None, 32)                128       \n",
            "                                                                 \n",
            " dropout_20 (Dropout)        (None, 32)                0         \n",
            "                                                                 \n",
            " dense_52 (Dense)            (None, 25)                825       \n",
            "                                                                 \n",
            " dropout_21 (Dropout)        (None, 25)                0         \n",
            "                                                                 \n",
            " dense_53 (Dense)            (None, 9)                 234       \n",
            "                                                                 \n",
            " dropout_22 (Dropout)        (None, 9)                 0         \n",
            "                                                                 \n",
            " dense_54 (Dense)            (None, 3)                 30        \n",
            "                                                                 \n",
            " input_15 (InputLayer)       multiple                  0         \n",
            "                                                                 \n",
            " dense_55 (Dense)            (None, 32)                128       \n",
            "                                                                 \n",
            " dense_56 (Dense)            (None, 25)                825       \n",
            "                                                                 \n",
            " dropout_23 (Dropout)        (None, 25)                0         \n",
            "                                                                 \n",
            " dense_57 (Dense)            (None, 9)                 234       \n",
            "                                                                 \n",
            " dense_58 (Dense)            (None, 3)                 30        \n",
            "                                                                 \n",
            " input_16 (InputLayer)       multiple                  0         \n",
            "                                                                 \n",
            " dense_59 (Dense)            (None, 32)                128       \n",
            "                                                                 \n",
            " dense_60 (Dense)            (None, 16)                528       \n",
            "                                                                 \n",
            " dropout_24 (Dropout)        (None, 16)                0         \n",
            "                                                                 \n",
            " dense_61 (Dense)            (None, 9)                 153       \n",
            "                                                                 \n",
            " dense_62 (Dense)            (None, 3)                 30        \n",
            "                                                                 \n",
            " input_17 (InputLayer)       multiple                  0         \n",
            "                                                                 \n",
            " dense_63 (Dense)            (None, 32)                128       \n",
            "                                                                 \n",
            " dense_64 (Dense)            (None, 24)                792       \n",
            "                                                                 \n",
            " dropout_25 (Dropout)        (None, 24)                0         \n",
            "                                                                 \n",
            " dense_65 (Dense)            (None, 16)                400       \n",
            "                                                                 \n",
            " dense_66 (Dense)            (None, 3)                 51        \n",
            "                                                                 \n",
            " input_18 (InputLayer)       multiple                  0         \n",
            "                                                                 \n",
            " dense_67 (Dense)            (None, 32)                128       \n",
            "                                                                 \n",
            " dense_68 (Dense)            (None, 20)                660       \n",
            "                                                                 \n",
            " dropout_26 (Dropout)        (None, 20)                0         \n",
            "                                                                 \n",
            " dense_69 (Dense)            (None, 10)                210       \n",
            "                                                                 \n",
            " dense_70 (Dense)            (None, 3)                 33        \n",
            "                                                                 \n",
            "=================================================================\n",
            "Total params: 18,696\n",
            "Trainable params: 18,696\n",
            "Non-trainable params: 0\n",
            "_________________________________________________________________\n"
          ]
        }
      ]
    },
    {
      "cell_type": "code",
      "source": [],
      "metadata": {
        "id": "oUdjl3x_lUXe"
      },
      "execution_count": null,
      "outputs": []
    }
  ]
}