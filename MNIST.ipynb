{
  "nbformat": 4,
  "nbformat_minor": 0,
  "metadata": {
    "colab": {
      "provenance": [],
      "collapsed_sections": [],
      "include_colab_link": true
    },
    "kernelspec": {
      "name": "python3",
      "display_name": "Python 3"
    },
    "language_info": {
      "name": "python"
    }
  },
  "cells": [
    {
      "cell_type": "markdown",
      "metadata": {
        "id": "view-in-github",
        "colab_type": "text"
      },
      "source": [
        "<a href=\"https://colab.research.google.com/github/tselane2110/TOCI-III/blob/main/MNIST.ipynb\" target=\"_parent\"><img src=\"https://colab.research.google.com/assets/colab-badge.svg\" alt=\"Open In Colab\"/></a>"
      ]
    },
    {
      "cell_type": "code",
      "metadata": {
        "id": "L8IuznYFfiKS"
      },
      "source": [
        "import random                        \n",
        "import itertools\n",
        "import numpy as np                   \n",
        "import matplotlib.pyplot as plt      \n",
        "from sklearn.metrics import confusion_matrix\n",
        "\n",
        "from keras.datasets import mnist     # MNIST dataset is included in Keras\n",
        "from keras.models import Sequential  # Model type to be used\n",
        "from keras.layers.core import Dense, Dropout, Activation # Types of layers to be used in our model\n",
        "from keras.layers import Conv2D, MaxPool2D, Flatten #CNN\n",
        "from keras.utils import np_utils                         # NumPy related tools\n",
        "from tensorflow.keras.optimizers import RMSprop           # Optimizer"
      ],
      "execution_count": null,
      "outputs": []
    },
    {
      "cell_type": "markdown",
      "metadata": {
        "id": "0hRorUXwmbuu"
      },
      "source": [
        "<h3><a href=\"https://colab.research.google.com/github/AviatorMoser/keras-mnist-tutorial/blob/master/MNIST%20in%20Keras.ipynb#scrollTo=iZwWHjcedU0KM\">https://colab.research.google.com/github/AviatorMoser/keras-mnist-tutorial/blob/master/MNIST%20in%20Keras.ipynb#scrollTo=iZwWHjcedU0KM</a></h3>"
      ]
    },
    {
      "cell_type": "code",
      "metadata": {
        "colab": {
          "base_uri": "https://localhost:8080/"
        },
        "id": "Klon8cYtfpe3",
        "outputId": "b1b9105e-2bcf-4e17-b0e8-44eb68e93b53"
      },
      "source": [
        "# The MNIST data is split between 60,000 28 x 28 pixel training images and 10,000 28 x 28 pixel images\n",
        "(x_train, y_train), (x_test, y_test) = mnist.load_data()\n",
        "\n",
        "print(\"x_train shape\", x_train.shape)\n",
        "print(\"y_train shape\", y_train.shape)\n",
        "print(\"x_test shape\", x_test.shape)\n",
        "print(\"y_test shape\", y_test.shape)"
      ],
      "execution_count": null,
      "outputs": [
        {
          "output_type": "stream",
          "name": "stdout",
          "text": [
            "x_train shape (60000, 28, 28)\n",
            "y_train shape (60000,)\n",
            "x_test shape (10000, 28, 28)\n",
            "y_test shape (10000,)\n"
          ]
        }
      ]
    },
    {
      "cell_type": "code",
      "metadata": {
        "colab": {
          "base_uri": "https://localhost:8080/",
          "height": 657
        },
        "id": "hGTPH3mSfz4J",
        "outputId": "6e341b40-9577-42de-87a3-6146e1962f7b"
      },
      "source": [
        "plt.rcParams['figure.figsize'] = (9,9) # Make the figures a bit bigger\n",
        "\n",
        "for i in range(9):\n",
        "    plt.subplot(3, 3, i+1)\n",
        "    num = random.randint(0, len(x_train))\n",
        "    plt.imshow(x_train[num], cmap='gray', interpolation='none')\n",
        "    plt.title(\"Class {}\".format(y_train[num]))\n",
        "    \n",
        "plt.tight_layout()"
      ],
      "execution_count": null,
      "outputs": [
        {
          "output_type": "display_data",
          "data": {
            "image/png": "[encoded data removed]",
            "text/plain": [
              "<Figure size 648x648 with 9 Axes>"
            ]
          },
          "metadata": {
            "needs_background": "light"
          }
        }
      ]
    },
    {
      "cell_type": "code",
      "metadata": {
        "colab": {
          "base_uri": "https://localhost:8080/"
        },
        "id": "Tt9AGvnLf5wk",
        "outputId": "3a08e55e-cf21-4aac-f5e7-9bb0995d0b06"
      },
      "source": [
        "# just a little function for pretty printing a matrix\n",
        "def matprint(mat, fmt=\"g\"):\n",
        "    col_maxes = [max([len((\"{:\"+fmt+\"}\").format(x)) for x in col]) for col in mat.T]\n",
        "    for x in mat:\n",
        "        for i, y in enumerate(x):\n",
        "            print((\"{:\"+str(col_maxes[i])+fmt+\"}\").format(y), end=\"  \")\n",
        "        print(\"\")\n",
        "\n",
        "# now print!  \n",
        "num = random.randint(0, len(x_train))\n",
        "print(y_train[num])\n",
        "matprint(x_train[num])"
      ],
      "execution_count": null,
      "outputs": [
        {
          "output_type": "stream",
          "name": "stdout",
          "text": [
            "4\n",
            "0  0  0  0    0    0    0    0    0    0    0    0    0    0    0    0    0    0    0    0    0    0    0    0  0  0  0  0  \n",
            "0  0  0  0    0    0    0    0    0    0    0    0    0    0    0    0    0    0    0    0    0    0    0    0  0  0  0  0  \n",
            "0  0  0  0    0    0    0    0    0    0    0    0    0    0    0    0    0    0    0    0    0    0    0    0  0  0  0  0  \n",
            "0  0  0  0    0    0    0    0    0    0    0    0    0    0    0    0    0    0    0    0    0    0    0    0  0  0  0  0  \n",
            "0  0  0  0    0    0    0    0    0    0    0    0    0    0    0    0    0    0    0    0    0    7  154  190  0  0  0  0  \n",
            "0  0  0  0    0    0    0    0    0    0    0    0    0   13   57    7    0    0    0    0    7  150  252  139  0  0  0  0  \n",
            "0  0  0  0    0    0    0    0    0    0    0    0    0  144  252   65    0    0    0    0  117  252  224   43  0  0  0  0  \n",
            "0  0  0  0    0    0    0    0    0    0    0    0   26  243  252   90    0    0    0   51  241  252  118    0  0  0  0  0  \n",
            "0  0  0  0    0    0    0    0    0    0    0   63  204  253  206   13    0    0    0  176  254  247   50    0  0  0  0  0  \n",
            "0  0  0  0    0    0    0    0    0    0   45  194  253  240   81    0    0    0   57  243  253  196    0    0  0  0  0  0  \n",
            "0  0  0  0    0    0    0    0    0   57  215  252  244   81    0    0    0    0  172  252  253  109    0    0  0  0  0  0  \n",
            "0  0  0  0    0    0    0    0   76  243  252  252  175    0    0    0    0  101  246  252  228    9    0    0  0  0  0  0  \n",
            "0  0  0  0    0    0    0   76  254  253  253  128    0    0    0    0   29  253  253  253  163    0    0    0  0  0  0  0  \n",
            "0  0  0  0    0    0   82  243  253  252  121    9    0    0    0    0  104  252  252  227   38    0    0    0  0  0  0  0  \n",
            "0  0  0  0   10  110  240  252  253  252  209  147   85   85   19    0  178  252  252  139    0   19   19    0  0  0  0  0  \n",
            "0  0  0  0  179  252  252  252  253  252  252  252  253  252  231  225  253  252  252  139    0  107   56    0  0  0  0  0  \n",
            "0  0  0  0  255  253  244  225  163  188  137  163  226  231  253  253  254  253  253  253  254  222   25    0  0  0  0  0  \n",
            "0  0  0  0   97  121   56    0    0    0    0    0    0   19   84  234  253  252  252  252  247  103    0    0  0  0  0  0  \n",
            "0  0  0  0    0    0    0    0    0    0    0    0    0    0  104  246  253  252   99   56   50    0    0    0  0  0  0  0  \n",
            "0  0  0  0    0    0    0    0    0    0    0    0    0    0  197  252  253  202    6    0    0    0    0    0  0  0  0  0  \n",
            "0  0  0  0    0    0    0    0    0    0    0    0    0    7  204  253  251   75    0    0    0    0    0    0  0  0  0  0  \n",
            "0  0  0  0    0    0    0    0    0    0    0    0    0   82  252  252  225    0    0    0    0    0    0    0  0  0  0  0  \n",
            "0  0  0  0    0    0    0    0    0    0    0    0    0  169  252  252  187    0    0    0    0    0    0    0  0  0  0  0  \n",
            "0  0  0  0    0    0    0    0    0    0    0    0    0  119  252  202   63    0    0    0    0    0    0    0  0  0  0  0  \n",
            "0  0  0  0    0    0    0    0    0    0    0    0    0    0    0    0    0    0    0    0    0    0    0    0  0  0  0  0  \n",
            "0  0  0  0    0    0    0    0    0    0    0    0    0    0    0    0    0    0    0    0    0    0    0    0  0  0  0  0  \n",
            "0  0  0  0    0    0    0    0    0    0    0    0    0    0    0    0    0    0    0    0    0    0    0    0  0  0  0  0  \n",
            "0  0  0  0    0    0    0    0    0    0    0    0    0    0    0    0    0    0    0    0    0    0    0    0  0  0  0  0  \n"
          ]
        }
      ]
    },
    {
      "cell_type": "markdown",
      "metadata": {
        "id": "c-tkEuDDmiMd"
      },
      "source": [
        "<h3><a href=\"https://www.kaggle.com/yassineghouzam/introduction-to-cnn-keras-0-997-top-6\">https://www.kaggle.com/yassineghouzam/introduction-to-cnn-keras-0-997-top-6</a></h3>\n",
        "\n"
      ]
    },
    {
      "cell_type": "code",
      "metadata": {
        "id": "iR3sj2Xmgz0_"
      },
      "source": [
        "#Normalization #scaling\n",
        "\n",
        "X_train = x_train / 255                        # normalize each value for each pixel for the entire vector for each input\n",
        "X_test = x_test / 255"
      ],
      "execution_count": null,
      "outputs": []
    },
    {
      "cell_type": "code",
      "metadata": {
        "id": "tkwDmjTCjCrl"
      },
      "source": [
        "# Reshape image in 3 dimensions (height = 28px, width = 28px , canal = 1)\n",
        "# Cannal is nymber of channels in the image for gray scale its 1 for rgb its 3, hsv 3\n",
        "\n",
        "60000 * 28 * 28\n",
        "60000 * 28 * 28 * 1\n",
        "\n",
        "X_train = X_train.reshape(-1,28,28,1)\n",
        "X_test = X_test.reshape(-1,28,28,1)"
      ],
      "execution_count": null,
      "outputs": []
    },
    {
      "cell_type": "code",
      "metadata": {
        "colab": {
          "base_uri": "https://localhost:8080/"
        },
        "id": "7NjnyTI_jX1U",
        "outputId": "b59fa423-9b50-4572-a6bf-37a5ba58746c"
      },
      "source": [
        "X_train.shape"
      ],
      "execution_count": null,
      "outputs": [
        {
          "output_type": "execute_result",
          "data": {
            "text/plain": [
              "(60000, 28, 28, 1)"
            ]
          },
          "metadata": {},
          "execution_count": 7
        }
      ]
    },
    {
      "cell_type": "code",
      "metadata": {
        "id": "q70m4nYZhUKR"
      },
      "source": [
        "nb_classes = 10 # number of unique digits\n",
        "\n",
        "0,1,2,3,4,5,6,7,8,9\n",
        "\n",
        "0 => [1, 0, 0 , 0, 0, 0, 0, 0, 0, 0]\n",
        "1 => [0, 1, 0 , 0, 0, 0, 0, 0, 0, 0]\n",
        "2 => [0, 0, 1 , 0, 0, 0, 0, 0, 0, 0]\n",
        "\n",
        "\n",
        "Y_train = np_utils.to_categorical(y_train, nb_classes)\n",
        "Y_test = np_utils.to_categorical(y_test, nb_classes)"
      ],
      "execution_count": null,
      "outputs": []
    },
    {
      "cell_type": "code",
      "metadata": {
        "id": "PlNpZszghbJz"
      },
      "source": [
        "model = Sequential()\n",
        "\n",
        "model.add(Conv2D(filters = 32, kernel_size = (5,5), padding = 'Same', activation = 'relu', input_shape = (28,28,1)))\n",
        "model.add(Conv2D(filters = 32, kernel_size = (5,5), padding = 'Same', activation = 'relu'))\n",
        "model.add(MaxPool2D(pool_size = (2,2)))\n",
        "model.add(Dropout(0.25))\n",
        "\n",
        "model.add(Conv2D(filters = 64, kernel_size = (3,3),padding = 'Same', activation ='relu'))\n",
        "model.add(Conv2D(filters = 64, kernel_size = (3,3),padding = 'Same', activation ='relu'))\n",
        "model.add(MaxPool2D(pool_size=(2,2), strides=(2,2)))\n",
        "model.add(Dropout(0.25))\n",
        "\n",
        "model.add(Flatten())\n",
        "\n",
        "model.add(Dense(256, activation = \"relu\"))\n",
        "model.add(Dropout(0.5))\n",
        "model.add(Dense(10, activation = \"softmax\"))\n",
        "\n",
        "optimizer = RMSprop(learning_rate = 0.001, rho = 0.9, epsilon = 1e-08, decay = 0.0)\n",
        "model.compile(optimizer = optimizer , loss = \"categorical_crossentropy\", metrics=[\"accuracy\"])"
      ],
      "execution_count": null,
      "outputs": []
    },
    {
      "cell_type": "code",
      "metadata": {
        "id": "GJg1Tjqa3cux"
      },
      "source": [
        "model.summary()"
      ],
      "execution_count": null,
      "outputs": []
    },
    {
      "cell_type": "code",
      "metadata": {
        "id": "ba8zAyq3imbJ"
      },
      "source": [
        "epochs = 1 # \n",
        "batch_size = 600"
      ],
      "execution_count": null,
      "outputs": []
    },
    {
      "cell_type": "code",
      "metadata": {
        "colab": {
          "base_uri": "https://localhost:8080/"
        },
        "id": "pFv95vc3h9tE",
        "outputId": "8316ad44-e5c5-4241-e25f-80c0f004a113"
      },
      "source": [
        "history = model.fit(X_train,\n",
        "                    Y_train, \n",
        "                    batch_size = batch_size,\n",
        "                    epochs = epochs, \n",
        "                    steps_per_epoch = X_train.shape[0] / batch_size,\n",
        "                    validation_data = (X_test,Y_test))"
      ],
      "execution_count": null,
      "outputs": [
        {
          "output_type": "stream",
          "name": "stdout",
          "text": [
            "100/100 [==============================] - 282s 3s/step - loss: 0.4911 - accuracy: 0.8424 - val_loss: 0.0703 - val_accuracy: 0.9784\n"
          ]
        }
      ]
    },
    {
      "cell_type": "code",
      "metadata": {
        "id": "0hMDeA-wqLyw"
      },
      "source": [
        "# Predict the values from the validation dataset\n",
        "\n",
        "#Test Data -> X_test\n",
        "#Test labels -> Y_Test -> Actuall Label\n",
        "\n",
        "Y_pred = model.predict(X_test)\n",
        "\n",
        "#Predicted label -> Y_pred -> Predicted label"
      ],
      "execution_count": null,
      "outputs": []
    },
    {
      "cell_type": "code",
      "metadata": {
        "id": "dn1wVKCIqyyj",
        "colab": {
          "base_uri": "https://localhost:8080/"
        },
        "outputId": "9100c356-b3d5-4fa6-ca02-8c11a7b0c023"
      },
      "source": [
        "print(Y_test[0])\n",
        "print(Y_pred[0])"
      ],
      "execution_count": null,
      "outputs": [
        {
          "output_type": "stream",
          "name": "stdout",
          "text": [
            "[0. 0. 0. 0. 0. 0. 0. 1. 0. 0.]\n",
            "[6.44883080e-09 9.59067670e-09 5.95486767e-07 1.70377211e-06\n",
            " 1.00917197e-09 3.45536733e-09 2.78640349e-12 9.99996543e-01\n",
            " 1.03535704e-08 1.22627682e-06]\n"
          ]
        }
      ]
    },
    {
      "cell_type": "code",
      "metadata": {
        "id": "wCyJM08EqWl2"
      },
      "source": [
        "# Convert actuall and predictions classes to one hot vectors \n",
        "Y_actuall_classes = np.argmax(Y_test, axis = 1)\n",
        "Y_pred_classes = np.argmax(Y_pred, axis = 1) "
      ],
      "execution_count": null,
      "outputs": []
    },
    {
      "cell_type": "code",
      "metadata": {
        "id": "JM5s32cIsB7w",
        "colab": {
          "base_uri": "https://localhost:8080/"
        },
        "outputId": "8789a64e-25d2-46da-a062-a40976817242"
      },
      "source": [
        "print(Y_actuall_classes[0])\n",
        "print(Y_pred_classes[0])"
      ],
      "execution_count": null,
      "outputs": [
        {
          "output_type": "stream",
          "name": "stdout",
          "text": [
            "7\n",
            "7\n"
          ]
        }
      ]
    },
    {
      "cell_type": "code",
      "metadata": {
        "id": "qKCLsAlwm-gb"
      },
      "source": [
        "# Display some error results \n",
        "\n",
        "# Errors are difference between predicted labels and true labels\n",
        "errors = (Y_actuall_classes - Y_pred_classes != 0)\n",
        "\n",
        "#10000 true false\n",
        "#0 True\n",
        "\n",
        "#535 False\n",
        "\n",
        "X_test_error = X_test[errors]\n",
        "Y_actuall_classes_errors = Y_actuall_classes[errors]\n",
        "Y_pred_classes_errors = Y_pred_classes[errors]"
      ],
      "execution_count": null,
      "outputs": []
    },
    {
      "cell_type": "code",
      "metadata": {
        "id": "6tb7EmXko0KT",
        "colab": {
          "base_uri": "https://localhost:8080/",
          "height": 657
        },
        "outputId": "ee9beba6-51fe-4e25-c96d-401a430f0907"
      },
      "source": [
        "plt.rcParams['figure.figsize'] = (9,9) # Make the figures a bit bigger\n",
        "\n",
        "for i in range(9):\n",
        "    plt.subplot(3, 3, i+1)\n",
        "    num = random.randint(0, len(X_test_error))\n",
        "    plt.imshow(X_test_error[num].reshape(28, 28), cmap='gray', interpolation='none')\n",
        "    plt.title(f'Class {Y_actuall_classes_errors[num]}, Predicted {Y_pred_classes_errors[num]}')\n",
        "    \n",
        "plt.tight_layout()"
      ],
      "execution_count": null,
      "outputs": [
        {
          "output_type": "display_data",
          "data": {
            "image/png": "[encoded data removed]",
            "text/plain": [
              "<Figure size 648x648 with 9 Axes>"
            ]
          },
          "metadata": {
            "needs_background": "light"
          }
        }
      ]
    },
    {
      "cell_type": "markdown",
      "metadata": {
        "id": "N2fqhcKIvLKO"
      },
      "source": [
        "<h1>🐍</h1>"
      ]
    }
  ]
}